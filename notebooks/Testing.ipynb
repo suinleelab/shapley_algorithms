{
 "cells": [
  {
   "cell_type": "markdown",
   "id": "9df937df",
   "metadata": {},
   "source": [
    "## Testing out stochastic estimators and variants on linear model"
   ]
  },
  {
   "cell_type": "code",
   "execution_count": null,
   "id": "e6d06ea3",
   "metadata": {},
   "outputs": [],
   "source": [
    "%load_ext pycodestyle_magic\n",
    "%pycodestyle_on"
   ]
  },
  {
   "cell_type": "code",
   "execution_count": 1,
   "id": "6e91cfe6",
   "metadata": {},
   "outputs": [
    {
     "data": {
      "text/plain": [
       "array([ 0.48120511, -0.66020919,  0.00084455,  0.01993125,  0.0027064 ])"
      ]
     },
     "execution_count": 1,
     "metadata": {},
     "output_type": "execute_result"
    }
   ],
   "source": [
    "from shapley_algorithms.explain import MultilinearFeature\n",
    "from shapley_algorithms.explain import Multilinear\n",
    "from shapley_algorithms.explain import RandomOrderFeature\n",
    "from shapley_algorithms.explain import RandomOrder\n",
    "from shapley_algorithms.explain import LeastSquares\n",
    "from shapley_algorithms.explain import LeastSquaresSGD\n",
    "from shapley_algorithms.explain import Exact\n",
    "\n",
    "from sklearn.linear_model import LinearRegression\n",
    "import numpy as np\n",
    "\n",
    "num_subsets = 1000\n",
    "num_features = 5\n",
    "\n",
    "X = np.random.randn(2000, num_features)\n",
    "y = X[:, 0] + 2*X[:, 1] - X[:, 1]*X[:, 2]\n",
    "reg = LinearRegression().fit(X, y)\n",
    "\n",
    "baselines = X[0:100]\n",
    "explicands = X[0:10]\n",
    "\n",
    "beta = reg.coef_\n",
    "beta * (explicands[0] - baselines.mean(0))"
   ]
  },
  {
   "cell_type": "code",
   "execution_count": null,
   "id": "d02096bf",
   "metadata": {},
   "outputs": [],
   "source": [
    "MultilinearFeature(reg.predict, num_features)(\n",
    "    explicands[0], baselines, num_evals=10000)"
   ]
  },
  {
   "cell_type": "code",
   "execution_count": null,
   "id": "78ae6464",
   "metadata": {},
   "outputs": [],
   "source": [
    "MultilinearFeature(reg.predict, num_features)(\n",
    "    explicands[0], baselines, num_evals=10000, is_adaptive=True)"
   ]
  },
  {
   "cell_type": "code",
   "execution_count": null,
   "id": "e6f3e5b9",
   "metadata": {},
   "outputs": [],
   "source": [
    "MultilinearFeature(reg.predict, num_features)(\n",
    "    explicands[0], baselines, num_evals=10000, is_antithetic=True)"
   ]
  },
  {
   "cell_type": "code",
   "execution_count": 2,
   "id": "9b4a324c",
   "metadata": {},
   "outputs": [
    {
     "data": {
      "text/plain": [
       "(array([ 0.48628028, -0.66205674,  0.0006862 ,  0.0208591 ,  0.00277759]),\n",
       " 9996)"
      ]
     },
     "execution_count": 2,
     "metadata": {},
     "output_type": "execute_result"
    }
   ],
   "source": [
    "Multilinear(reg.predict, num_features)(\n",
    "    explicands[0], baselines, num_evals=10000)"
   ]
  },
  {
   "cell_type": "code",
   "execution_count": null,
   "id": "fa646441",
   "metadata": {},
   "outputs": [],
   "source": [
    "Multilinear(reg.predict, num_features)(\n",
    "    explicands[0], baselines, num_evals=10000, is_antithetic=True)"
   ]
  },
  {
   "cell_type": "code",
   "execution_count": null,
   "id": "5978d2b0",
   "metadata": {},
   "outputs": [],
   "source": [
    "RandomOrderFeature(reg.predict, num_features)(\n",
    "    explicands[0], baselines, 10000)"
   ]
  },
  {
   "cell_type": "code",
   "execution_count": null,
   "id": "ad6743be",
   "metadata": {},
   "outputs": [],
   "source": [
    "RandomOrderFeature(reg.predict, num_features)(\n",
    "    explicands[0], baselines, 10000, is_adaptive=True)"
   ]
  },
  {
   "cell_type": "code",
   "execution_count": null,
   "id": "d1fcbce4",
   "metadata": {},
   "outputs": [],
   "source": [
    "RandomOrderFeature(reg.predict, num_features)(\n",
    "    explicands[0], baselines, 10000, is_antithetic=True)"
   ]
  },
  {
   "cell_type": "code",
   "execution_count": null,
   "id": "d3fd3f99",
   "metadata": {},
   "outputs": [],
   "source": [
    "RandomOrder(reg.predict, num_features)(\n",
    "    explicands[0], baselines, 10000, is_antithetic=False)"
   ]
  },
  {
   "cell_type": "code",
   "execution_count": null,
   "id": "cc417903",
   "metadata": {},
   "outputs": [],
   "source": [
    "RandomOrder(reg.predict, num_features)(\n",
    "    explicands[0], baselines, 10000, is_antithetic=True)"
   ]
  },
  {
   "cell_type": "code",
   "execution_count": null,
   "id": "6f5f3fd8",
   "metadata": {},
   "outputs": [],
   "source": [
    "LeastSquares(reg.predict, num_features)(\n",
    "    explicands[0], baselines, 10000, is_antithetic=False)"
   ]
  },
  {
   "cell_type": "code",
   "execution_count": null,
   "id": "3830535c",
   "metadata": {},
   "outputs": [],
   "source": [
    "LeastSquares(reg.predict, num_features)(\n",
    "    explicands[0], baselines, 10000, is_antithetic=True)"
   ]
  },
  {
   "cell_type": "markdown",
   "id": "aac74767",
   "metadata": {},
   "source": [
    "### Below methods only work for baseline shapley"
   ]
  },
  {
   "cell_type": "code",
   "execution_count": null,
   "id": "d78b33c3",
   "metadata": {},
   "outputs": [],
   "source": [
    "beta * (explicands[0] - baselines[1])"
   ]
  },
  {
   "cell_type": "code",
   "execution_count": null,
   "id": "e7a7d433",
   "metadata": {},
   "outputs": [],
   "source": [
    "Exact(reg.predict, num_features)(explicands[0], baselines[1:2])"
   ]
  },
  {
   "cell_type": "code",
   "execution_count": null,
   "id": "ddde5387",
   "metadata": {},
   "outputs": [],
   "source": [
    "LeastSquaresSGD(reg.predict, num_features, y.max())(\n",
    "    explicands[0], baselines[1:2], 10000)[0]"
   ]
  },
  {
   "cell_type": "markdown",
   "id": "f5412a08",
   "metadata": {},
   "source": [
    "### Investigate least squares SGD method"
   ]
  },
  {
   "cell_type": "code",
   "execution_count": null,
   "id": "8d80c0ec",
   "metadata": {},
   "outputs": [],
   "source": [
    "def fc(x):\n",
    "    if len(x.shape) == 1:\n",
    "        return reg.predict(x[None,:])\n",
    "    elif len(x.shape) == 2:\n",
    "        return reg.predict(x)\n",
    "    \n",
    "import pandas as pd\n",
    "from shapkit.sgd_shapley import SGDshapley\n",
    "\n",
    "sgd_est = SGDshapley(num_features, C=y.max())\n",
    "sgd_shap = sgd_est.sgd(x=pd.DataFrame(explicands[0:1]).iloc[0], \n",
    "                       fc=fc, \n",
    "                       ref=pd.DataFrame(baselines[1:2]).iloc[0], \n",
    "                       n_iter=1000)\n",
    "sgd_shap.values"
   ]
  }
 ],
 "metadata": {
  "kernelspec": {
   "display_name": "py37",
   "language": "python",
   "name": "py37"
  },
  "language_info": {
   "codemirror_mode": {
    "name": "ipython",
    "version": 3
   },
   "file_extension": ".py",
   "mimetype": "text/x-python",
   "name": "python",
   "nbconvert_exporter": "python",
   "pygments_lexer": "ipython3",
   "version": "3.7.7"
  }
 },
 "nbformat": 4,
 "nbformat_minor": 5
}
